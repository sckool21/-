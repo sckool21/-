{
  "nbformat": 4,
  "nbformat_minor": 0,
  "metadata": {
    "colab": {
      "provenance": [],
      "collapsed_sections": [
        "LcO9iNxpC24O",
        "MS5sklOdWQ2Z",
        "XZo3if8HnRHE",
        "RtnIM2xWqZ1q",
        "A8sVGr7nCv86",
        "bJoJfLqiDBA0",
        "FS1FCwrNDUXS",
        "6Z7BGsTvDgTy"
      ]
    },
    "kernelspec": {
      "name": "python3",
      "display_name": "Python 3"
    },
    "language_info": {
      "name": "python"
    }
  },
  "cells": [
    {
      "cell_type": "markdown",
      "source": [
        "## Конспекты Python"
      ],
      "metadata": {
        "id": "LcO9iNxpC24O"
      }
    },
    {
      "cell_type": "markdown",
      "source": [
        "Конспекты о которых говориться в лекции:\n",
        "\n",
        "https://docs.google.com/document/d/1wQwsBF9NDQ9J7vFmy-Tx_d4OXmrXGsNv4EDtChdTv-M/edit"
      ],
      "metadata": {
        "id": "bV2tTAgEDF_K"
      }
    },
    {
      "cell_type": "markdown",
      "metadata": {
        "id": "MS5sklOdWQ2Z"
      },
      "source": [
        "## Урок №3. Ввод-вывод и базовые переменные"
      ]
    },
    {
      "cell_type": "markdown",
      "metadata": {
        "id": "GWL7555YW6pq"
      },
      "source": [
        "**Задание №1**\n",
        "\n",
        "Давай представим, что мы пишем бэкенд для сайта ветеринарной клиники. Нам нужно написать программу, которая будет запрашивать у пользователя вид питомца, его возраст и кличку, а потом выведет все эти данные в одно предложение. Например:\n",
        "\n",
        "`Это желторотый питон по кличке \"Каа\". Возраст: 34 года.`"
      ]
    },
    {
      "cell_type": "markdown",
      "source": [
        "**Решение задания № 1:**"
      ],
      "metadata": {
        "id": "O8u_5jatEYyX"
      }
    },
    {
      "cell_type": "code",
      "source": [
        "print('Назовите вид вашего питонца')\n",
        "vid= input()\n",
        "print('как его зовут?')\n",
        "kli=input()\n",
        "print('Назовите его возраст')\n",
        "voz=input()\n",
        "print('Это '+vid+' по кличке \"'+kli+'\". Возраст: '+voz+'.')"
      ],
      "metadata": {
        "id": "FaXc-2GjDfVt",
        "colab": {
          "base_uri": "https://localhost:8080/"
        },
        "outputId": "0a879695-3ea1-497d-c102-a972f1b6c268"
      },
      "execution_count": null,
      "outputs": [
        {
          "output_type": "stream",
          "name": "stdout",
          "text": [
            "Назовите вид вашего питонца\n",
            "желторотый питон\n",
            "как его зовут?\n",
            "Каа\n",
            "Назовите его возраст\n",
            "34 года\n",
            "Это желторотый питон по кличке \"Каа\". Возраст: 34 года.\n"
          ]
        }
      ]
    },
    {
      "cell_type": "markdown",
      "metadata": {
        "id": "0td7W7PybQ3H"
      },
      "source": [
        "**Задание №2**\n",
        "\n",
        "А теперь мы с тобой напишем форму ввода ответа на тест по биологии для студентов. Он должен запрашивать по порядку этапы развития человека (проверим твое умение гуглить, что тоже очень важно для программиста. ) и в конце вывести все стадии, разделенные знаком `=>`, что будет означать постепенный переход от одного к другому. В следующих уроках мы дополним эту форму до полноценного теста, который будет проверять правильность ответов, а пока - начнем с малого. Напоминаем, что разделить эти данные тебе поможет команда `sep` внутри команды `print`, например, чтобы разделить переменные знаком `+` нужно ввести:\n",
        "\n",
        "`print(a1, a2, a3, sep='+')`\n",
        "\n",
        "Подсказка: последняя стадия развития - Homo sapiens sapiens."
      ]
    },
    {
      "cell_type": "markdown",
      "source": [
        "**Решение задания № 2:**"
      ],
      "metadata": {
        "id": "xqW_5xK-Em4Y"
      }
    },
    {
      "cell_type": "code",
      "source": [
        "print('Введите этапы развития человека')\n",
        "a1=input()\n",
        "a2=input()\n",
        "a3=input()\n",
        "a4=input()\n",
        "print(a1, a2, a3, a4, sep=\"=>\")"
      ],
      "metadata": {
        "id": "P4t3ASznDfz-",
        "colab": {
          "base_uri": "https://localhost:8080/"
        },
        "outputId": "53d2b722-c1c7-434d-9e99-3eb70ea40e0b"
      },
      "execution_count": null,
      "outputs": [
        {
          "output_type": "stream",
          "name": "stdout",
          "text": [
            "Введите этапы развития человека\n",
            "dryopithecus\n",
            "australopithecus\n",
            "homo erectus\n",
            "homh sapiens\n",
            "dryopithecus=>australopithecus=>homo erectus=>homh sapiens\n"
          ]
        }
      ]
    },
    {
      "cell_type": "markdown",
      "metadata": {
        "id": "XZo3if8HnRHE"
      },
      "source": [
        "## Урок №4. float, int и арифметические операции"
      ]
    },
    {
      "cell_type": "markdown",
      "metadata": {
        "id": "SSSYqQfjpiVb"
      },
      "source": [
        "**Задание №1**\n",
        "\n",
        "Пользователь вводит стороны прямоугольника, выведите его площадь и периметр. На вход программе могут подаваться как целые числа, так и вещественные"
      ]
    },
    {
      "cell_type": "markdown",
      "source": [
        "**Решение задания № 1:**"
      ],
      "metadata": {
        "id": "mERNRocFEtEs"
      }
    },
    {
      "cell_type": "code",
      "source": [
        "print('Введите значение длины и ширины прямоугольника')\n",
        "a,b=map(float,(input().split()))\n",
        "print('Площадь = ', a*b)\n",
        "print('Периметр = ', 2*(a+b))"
      ],
      "metadata": {
        "id": "OcdS53iwDgmU",
        "colab": {
          "base_uri": "https://localhost:8080/"
        },
        "outputId": "5b43c421-9757-4c01-b778-fecf2742f53a"
      },
      "execution_count": null,
      "outputs": [
        {
          "output_type": "stream",
          "name": "stdout",
          "text": [
            "Введите значение длины и ширины прямоугольника\n",
            "2.5 2\n",
            "Площадь =  5.0\n",
            "Периметр =  9.0\n"
          ]
        }
      ]
    },
    {
      "cell_type": "markdown",
      "metadata": {
        "id": "Vzct7eqlpz4U"
      },
      "source": [
        "**Задание №2**\n",
        "\n",
        "Дано пятизначное целое число. Напишите алгоритм, который возведёт количество десятков в степень количества единиц. Затем умножит это число на количество сотен. И делит получившееся число на разность количества десятков тысяч и количества тысяч\n",
        "\n",
        "Например, есть число `46275`\n",
        "\n",
        "Необходимо возвести 7 (десятки) в степень 5 (единицы), умножить получившееся число на 2 (сотни), и разделить на разность между 4 (десятки тысяч) и 6 (тысячи) то есть (4-6)\n",
        "\n",
        "В результате необходимо получить вещественное число. В нашем примере это будет: `-16807.0`"
      ]
    },
    {
      "cell_type": "markdown",
      "source": [
        "**Решение задания № 2:**"
      ],
      "metadata": {
        "id": "8JE89k-DEveP"
      }
    },
    {
      "cell_type": "code",
      "source": [
        "st=int(input())\n",
        "a=st%10\n",
        "b=(st//10)%10\n",
        "d=(st//100)%10\n",
        "e=(st//1000)%10\n",
        "f=(st//10000)%10\n",
        "print((b**a*d)/(f-e))\n"
      ],
      "metadata": {
        "id": "24LP6kMYDhAL",
        "colab": {
          "base_uri": "https://localhost:8080/"
        },
        "outputId": "8f6b2397-08bc-4613-daf8-10da6661f805"
      },
      "execution_count": null,
      "outputs": [
        {
          "output_type": "stream",
          "name": "stdout",
          "text": [
            "12598\n",
            "-215233605.0\n"
          ]
        }
      ]
    },
    {
      "cell_type": "markdown",
      "metadata": {
        "id": "RtnIM2xWqZ1q"
      },
      "source": [
        "## Урок №5. Логические и условные операторы"
      ]
    },
    {
      "cell_type": "markdown",
      "metadata": {
        "id": "-P4_jB5XqgqS"
      },
      "source": [
        "**Задание №1**\n",
        "\n",
        "Пользователь вводит целое число. Выведите его строку-описание вида `\"отрицательное четное число\"`, `\"нулевое число\"`, `\"положительное нечетное число\"`, например, численным описанием числа 190 является строка `\"положительное четное число\"`. Если число не является четным - выведите сообщение `\"число не является четным\"`"
      ]
    },
    {
      "cell_type": "markdown",
      "source": [
        "**Решение задания № 1:**"
      ],
      "metadata": {
        "id": "YHfUL80mEydI"
      }
    },
    {
      "cell_type": "code",
      "source": [
        "a=int(input())\n",
        "if (a>0) and (a%2==0):\n",
        "  print(\"положительное четное число\")\n",
        "elif (a>0) and (a%2!=0):\n",
        "  print(\"число не является четным\")\n",
        "elif (a<0) and (a%2==0):\n",
        "  print(\"отрицательное четное число\")\n",
        "elif (a<0) and (a%2!=0):\n",
        "  print(\"отрицательное число не является четным\")\n",
        "else:\n",
        "  print(\"нулевое число\")"
      ],
      "metadata": {
        "id": "LTQlqL9WDh-Y",
        "colab": {
          "base_uri": "https://localhost:8080/"
        },
        "outputId": "339ff539-c1ee-4840-b389-eaa78ed15841"
      },
      "execution_count": null,
      "outputs": [
        {
          "output_type": "stream",
          "name": "stdout",
          "text": [
            "0\n",
            "нулевое число\n"
          ]
        }
      ]
    },
    {
      "cell_type": "markdown",
      "metadata": {
        "id": "nJyIxur1q5m6"
      },
      "source": [
        "**Задание №2**\n",
        "\n",
        "Дано слово из маленьких латинских букв. Сколько там согласных и гласных букв? Гласными называют буквы `«a», «e», «i», «o», «u»`.\n",
        "\n",
        "Для решения задачи создайте переменную и в неё положите слово с помощью `input()`\n",
        "\n",
        "А также определите количество каждой из этих гласных букв\n",
        "Если какой-то из перечисленных букв нет - Выведите False"
      ]
    },
    {
      "cell_type": "markdown",
      "source": [
        "**Решение задания № 2:**"
      ],
      "metadata": {
        "id": "c1OYwuxtE0kz"
      }
    },
    {
      "cell_type": "code",
      "source": [
        "b=input()\n",
        "s=len(b)\n",
        "a=0\n",
        "e=0\n",
        "o=0\n",
        "u=0\n",
        "i=0\n",
        "for k in range(0,s):\n",
        "  if b[k]=='a':\n",
        "    a+=1\n",
        "  elif b[k]=='e':\n",
        "    e+=1\n",
        "  elif b[k]=='o':\n",
        "    o+=1\n",
        "  elif b[k]=='u':\n",
        "    u+=1\n",
        "  elif b[k]=='i':\n",
        "    i+=1\n",
        "if a+e+o+u+i==0:\n",
        "  print('false')\n",
        "else:\n",
        "  print('a= ',a)\n",
        "  print('e= ',e)\n",
        "  print('o= ',o)\n",
        "  print('u= ',u)\n",
        "  print('i= ',i)"
      ],
      "metadata": {
        "id": "6jzCUUDkDi6W",
        "colab": {
          "base_uri": "https://localhost:8080/"
        },
        "outputId": "2661dc84-38f0-4c03-a6c4-174e47738afc"
      },
      "execution_count": null,
      "outputs": [
        {
          "output_type": "stream",
          "name": "stdout",
          "text": [
            "tree\n",
            "a=  0\n",
            "e=  2\n",
            "o=  0\n",
            "u=  0\n",
            "i=  0\n"
          ]
        }
      ]
    },
    {
      "cell_type": "markdown",
      "metadata": {
        "id": "Ld-2wFyrOxNk"
      },
      "source": [
        "**Задание №3**\n",
        "\n",
        "Два инвестора - Майкл и Иван хотят вложиться в стартап. Фаундеры сказали, что минимальная сумма инвестиций - `X` долларов, больше инвестировать можно сколько угодно. У Майкла `A` долларов, у Ивана `B` долларов. Если оба могут вложиться - выведите `2`, если только Майкл - `Mike`, если только Иван - `Ivan`, если не могут по отдельности, но вместе им хватает - `1`, если никто - `0`."
      ]
    },
    {
      "cell_type": "markdown",
      "source": [
        "**Решение задания № 3:**"
      ],
      "metadata": {
        "id": "GCe7aZqXE2BP"
      }
    },
    {
      "cell_type": "code",
      "source": [
        "mike=int(input())\n",
        "ivan=int(input())\n",
        "min=int(input())\n",
        "if (mike>=min) and (ivan>=min):\n",
        "  print(2)\n",
        "elif (mike>=min) or (ivan>=min) or ((mike+ivan)>=min):\n",
        "  print(1)\n",
        "else:\n",
        "  print(0)"
      ],
      "metadata": {
        "id": "BgQ-OeFDDjj9",
        "colab": {
          "base_uri": "https://localhost:8080/"
        },
        "outputId": "4805af26-f6ce-4e3c-afab-880110480478"
      },
      "execution_count": null,
      "outputs": [
        {
          "output_type": "stream",
          "name": "stdout",
          "text": [
            "1000\n",
            "2000\n",
            "5000\n",
            "0\n"
          ]
        }
      ]
    },
    {
      "cell_type": "markdown",
      "metadata": {
        "id": "A8sVGr7nCv86"
      },
      "source": [
        "## Урок №6. Циклы while и for"
      ]
    },
    {
      "cell_type": "markdown",
      "metadata": {
        "id": "QEsjeoThC0Zb"
      },
      "source": [
        "**Задание №1**\n",
        "\n",
        "Cначала вводится число N, затем вводится ровно N целых чисел. Подсчитайте, сколько из них равны нулю, и выведите это количество."
      ]
    },
    {
      "cell_type": "markdown",
      "source": [
        "**Решение задания № 1:**"
      ],
      "metadata": {
        "id": "4oC71QJUE4ki"
      }
    },
    {
      "cell_type": "code",
      "source": [
        "N=int(input())\n",
        "k=0\n",
        "for i in range(N):\n",
        "  a=int(input())\n",
        "  if a==0:\n",
        "    k+=1\n",
        "print('количество нулевых значений =',k)"
      ],
      "metadata": {
        "id": "jI7E7RMHDlWO",
        "colab": {
          "base_uri": "https://localhost:8080/"
        },
        "outputId": "215c7666-a7db-4346-8e1d-48ab5778f025"
      },
      "execution_count": null,
      "outputs": [
        {
          "output_type": "stream",
          "name": "stdout",
          "text": [
            "5\n",
            "5\n",
            "3\n",
            "0\n",
            "8\n",
            "9\n",
            "количество нулевых значений = 1\n"
          ]
        }
      ]
    },
    {
      "cell_type": "markdown",
      "metadata": {
        "id": "DdVI3X50KSjI"
      },
      "source": [
        "**Задание №2**\n",
        "\n",
        "Вводится натуральное число X. Подсчитайте количество натуральных делителей числа X (включая 1 и само число). x ≤ 2e9 (2 миллиарда)"
      ]
    },
    {
      "cell_type": "markdown",
      "source": [
        "**Решение задания № 2:**"
      ],
      "metadata": {
        "id": "YFX-GZVRE6Ag"
      }
    },
    {
      "cell_type": "code",
      "source": [
        "x=int(input())\n",
        "k=0\n",
        "i=x\n",
        "while i>=1:\n",
        "    if x%i==0:\n",
        "        k+=1\n",
        "    i-=1\n",
        "print(k)"
      ],
      "metadata": {
        "id": "cMGhan_8Dl44",
        "colab": {
          "base_uri": "https://localhost:8080/"
        },
        "outputId": "8bcc7c76-79ea-41a7-bd34-425a0e1502bf"
      },
      "execution_count": null,
      "outputs": [
        {
          "output_type": "stream",
          "name": "stdout",
          "text": [
            "2000\n",
            "20\n"
          ]
        }
      ]
    },
    {
      "cell_type": "markdown",
      "metadata": {
        "id": "qkaTuHRPKh0X"
      },
      "source": [
        "**Задание №3**\n",
        "\n",
        "Вводятся целые числа A и B. Гарантируется, что A ≤ B. Выведите все четные числа на заданном отрезке через пробел."
      ]
    },
    {
      "cell_type": "markdown",
      "source": [
        "**Решение задания № 3:**"
      ],
      "metadata": {
        "id": "7rFLvkNkE7F-"
      }
    },
    {
      "cell_type": "code",
      "source": [
        "a=int(input())\n",
        "b=int(input())\n",
        "c=0\n",
        "for i in range (a,b+1):\n",
        "  if i%2==0:\n",
        "    print(i)\n",
        "    c+=1\n",
        "\n"
      ],
      "metadata": {
        "id": "esYOKLlND2px",
        "colab": {
          "base_uri": "https://localhost:8080/"
        },
        "outputId": "6e3a4c68-c6af-45e1-cab9-9c40154e7a35"
      },
      "execution_count": null,
      "outputs": [
        {
          "output_type": "stream",
          "name": "stdout",
          "text": [
            "4\n",
            "9\n",
            "4\n",
            "6\n",
            "8\n"
          ]
        }
      ]
    },
    {
      "cell_type": "markdown",
      "metadata": {
        "id": "bJoJfLqiDBA0"
      },
      "source": [
        "## Урок №7. Строки"
      ]
    },
    {
      "cell_type": "markdown",
      "metadata": {
        "id": "WUNVSTxLDHRq"
      },
      "source": [
        "**Задание №1**\n",
        "\n",
        "На вход подается 1 строка без пробелов. По данной строке определите, является ли она палиндромом (то есть, можно ли прочесть ее наоборот, как, например, слово \"шалаш\"). Необходимо вывести ”yes”, если строка является палиндромом, и “no” в противном случае."
      ]
    },
    {
      "cell_type": "markdown",
      "source": [
        "**Решение задания № 1:**"
      ],
      "metadata": {
        "id": "zJpI1_wAE9Zo"
      }
    },
    {
      "cell_type": "code",
      "source": [
        "s1=input()\n",
        "s2=s1[::-1]\n",
        "if s1==s2:\n",
        "    print('yes')\n",
        "else:\n",
        "    print('no')"
      ],
      "metadata": {
        "id": "ykDs9mVTD4-Q",
        "colab": {
          "base_uri": "https://localhost:8080/"
        },
        "outputId": "ea72c9bc-7e55-4bb5-94e9-20feabda8bde"
      },
      "execution_count": null,
      "outputs": [
        {
          "output_type": "stream",
          "name": "stdout",
          "text": [
            "ifkfi\n",
            "yes\n"
          ]
        }
      ]
    },
    {
      "cell_type": "markdown",
      "metadata": {
        "id": "NTEpETxRLM7X"
      },
      "source": [
        "**Задание №2**\n",
        "\n",
        "Дана строка, длина которой не превосходит 1000. Вам требуется преобразовать все идущие подряд пробелы в один. Выведите измененную строку."
      ]
    },
    {
      "cell_type": "markdown",
      "source": [
        "**Решение задания № 2:**"
      ],
      "metadata": {
        "id": "hBq6JZNhE_Ai"
      }
    },
    {
      "cell_type": "code",
      "source": [
        "s1=input()\n",
        "s2=s1.split()\n",
        "print(' '.join(s2))"
      ],
      "metadata": {
        "id": "uTmt0tSND5eV",
        "colab": {
          "base_uri": "https://localhost:8080/"
        },
        "outputId": "efb77ff1-4bd8-478f-846c-e05158b2a465"
      },
      "execution_count": null,
      "outputs": [
        {
          "output_type": "stream",
          "name": "stdout",
          "text": [
            "ksdjgir  dskv km dk         ;lfnvbj     lkdvjodgj\n",
            "ksdjgir dskv km dk ;lfnvbj lkdvjodgj\n"
          ]
        }
      ]
    },
    {
      "cell_type": "markdown",
      "metadata": {
        "id": "FS1FCwrNDUXS"
      },
      "source": [
        "## Урок №8. Списки"
      ]
    },
    {
      "cell_type": "markdown",
      "metadata": {
        "id": "Y2x2ES9DDW97"
      },
      "source": [
        "**Задание №1**\n",
        "\n",
        "В первой строке вводится число N. Далее в N строк вводится N чисел (1 ≤ N ≤ 10000), по одному числу на строке. Все числа по модулю не превышают 10e5. Переверните массив чисел. Выведите N чисел - перевернутый массив."
      ]
    },
    {
      "cell_type": "markdown",
      "source": [
        "**Решение задания № 1:**"
      ],
      "metadata": {
        "id": "okyZjbmgFBHW"
      }
    },
    {
      "cell_type": "code",
      "source": [
        "N=int(input())\n",
        "mass=[]\n",
        "for i in range(N):\n",
        "    a=int(input())\n",
        "    mass.append(a)\n",
        "mass.reverse()\n",
        "print(mass)\n"
      ],
      "metadata": {
        "id": "BB2KIqelD6X2",
        "colab": {
          "base_uri": "https://localhost:8080/",
          "height": 443
        },
        "outputId": "b1716686-3035-4dc6-85bd-f1601d8b9b52"
      },
      "execution_count": null,
      "outputs": [
        {
          "name": "stdout",
          "output_type": "stream",
          "text": [
            "6\n",
            "4\n",
            "6\n"
          ]
        },
        {
          "output_type": "error",
          "ename": "KeyboardInterrupt",
          "evalue": "ignored",
          "traceback": [
            "\u001b[0;31m---------------------------------------------------------------------------\u001b[0m",
            "\u001b[0;31mKeyboardInterrupt\u001b[0m                         Traceback (most recent call last)",
            "\u001b[0;32m<ipython-input-7-f28f43a170a9>\u001b[0m in \u001b[0;36m<cell line: 3>\u001b[0;34m()\u001b[0m\n\u001b[1;32m      2\u001b[0m \u001b[0mmass\u001b[0m\u001b[0;34m=\u001b[0m\u001b[0;34m[\u001b[0m\u001b[0;34m]\u001b[0m\u001b[0;34m\u001b[0m\u001b[0;34m\u001b[0m\u001b[0m\n\u001b[1;32m      3\u001b[0m \u001b[0;32mfor\u001b[0m \u001b[0mi\u001b[0m \u001b[0;32min\u001b[0m \u001b[0mrange\u001b[0m\u001b[0;34m(\u001b[0m\u001b[0mN\u001b[0m\u001b[0;34m)\u001b[0m\u001b[0;34m:\u001b[0m\u001b[0;34m\u001b[0m\u001b[0;34m\u001b[0m\u001b[0m\n\u001b[0;32m----> 4\u001b[0;31m     \u001b[0ma\u001b[0m\u001b[0;34m=\u001b[0m\u001b[0mint\u001b[0m\u001b[0;34m(\u001b[0m\u001b[0minput\u001b[0m\u001b[0;34m(\u001b[0m\u001b[0;34m)\u001b[0m\u001b[0;34m)\u001b[0m\u001b[0;34m\u001b[0m\u001b[0;34m\u001b[0m\u001b[0m\n\u001b[0m\u001b[1;32m      5\u001b[0m     \u001b[0mmass\u001b[0m\u001b[0;34m.\u001b[0m\u001b[0mappend\u001b[0m\u001b[0;34m(\u001b[0m\u001b[0ma\u001b[0m\u001b[0;34m)\u001b[0m\u001b[0;34m\u001b[0m\u001b[0;34m\u001b[0m\u001b[0m\n\u001b[1;32m      6\u001b[0m \u001b[0mmass\u001b[0m\u001b[0;34m.\u001b[0m\u001b[0mreverse\u001b[0m\u001b[0;34m(\u001b[0m\u001b[0;34m)\u001b[0m\u001b[0;34m\u001b[0m\u001b[0;34m\u001b[0m\u001b[0m\n",
            "\u001b[0;32m/usr/local/lib/python3.10/dist-packages/ipykernel/kernelbase.py\u001b[0m in \u001b[0;36mraw_input\u001b[0;34m(self, prompt)\u001b[0m\n\u001b[1;32m    849\u001b[0m                 \u001b[0;34m\"raw_input was called, but this frontend does not support input requests.\"\u001b[0m\u001b[0;34m\u001b[0m\u001b[0;34m\u001b[0m\u001b[0m\n\u001b[1;32m    850\u001b[0m             )\n\u001b[0;32m--> 851\u001b[0;31m         return self._input_request(str(prompt),\n\u001b[0m\u001b[1;32m    852\u001b[0m             \u001b[0mself\u001b[0m\u001b[0;34m.\u001b[0m\u001b[0m_parent_ident\u001b[0m\u001b[0;34m,\u001b[0m\u001b[0;34m\u001b[0m\u001b[0;34m\u001b[0m\u001b[0m\n\u001b[1;32m    853\u001b[0m             \u001b[0mself\u001b[0m\u001b[0;34m.\u001b[0m\u001b[0m_parent_header\u001b[0m\u001b[0;34m,\u001b[0m\u001b[0;34m\u001b[0m\u001b[0;34m\u001b[0m\u001b[0m\n",
            "\u001b[0;32m/usr/local/lib/python3.10/dist-packages/ipykernel/kernelbase.py\u001b[0m in \u001b[0;36m_input_request\u001b[0;34m(self, prompt, ident, parent, password)\u001b[0m\n\u001b[1;32m    893\u001b[0m             \u001b[0;32mexcept\u001b[0m \u001b[0mKeyboardInterrupt\u001b[0m\u001b[0;34m:\u001b[0m\u001b[0;34m\u001b[0m\u001b[0;34m\u001b[0m\u001b[0m\n\u001b[1;32m    894\u001b[0m                 \u001b[0;31m# re-raise KeyboardInterrupt, to truncate traceback\u001b[0m\u001b[0;34m\u001b[0m\u001b[0;34m\u001b[0m\u001b[0m\n\u001b[0;32m--> 895\u001b[0;31m                 \u001b[0;32mraise\u001b[0m \u001b[0mKeyboardInterrupt\u001b[0m\u001b[0;34m(\u001b[0m\u001b[0;34m\"Interrupted by user\"\u001b[0m\u001b[0;34m)\u001b[0m \u001b[0;32mfrom\u001b[0m \u001b[0;32mNone\u001b[0m\u001b[0;34m\u001b[0m\u001b[0;34m\u001b[0m\u001b[0m\n\u001b[0m\u001b[1;32m    896\u001b[0m             \u001b[0;32mexcept\u001b[0m \u001b[0mException\u001b[0m \u001b[0;32mas\u001b[0m \u001b[0me\u001b[0m\u001b[0;34m:\u001b[0m\u001b[0;34m\u001b[0m\u001b[0;34m\u001b[0m\u001b[0m\n\u001b[1;32m    897\u001b[0m                 \u001b[0mself\u001b[0m\u001b[0;34m.\u001b[0m\u001b[0mlog\u001b[0m\u001b[0;34m.\u001b[0m\u001b[0mwarning\u001b[0m\u001b[0;34m(\u001b[0m\u001b[0;34m\"Invalid Message:\"\u001b[0m\u001b[0;34m,\u001b[0m \u001b[0mexc_info\u001b[0m\u001b[0;34m=\u001b[0m\u001b[0;32mTrue\u001b[0m\u001b[0;34m)\u001b[0m\u001b[0;34m\u001b[0m\u001b[0;34m\u001b[0m\u001b[0m\n",
            "\u001b[0;31mKeyboardInterrupt\u001b[0m: Interrupted by user"
          ]
        }
      ]
    },
    {
      "cell_type": "markdown",
      "metadata": {
        "id": "ox5PrYozLhg9"
      },
      "source": [
        "**Задание №2**\n",
        "\n",
        "В первую строчку вводится число N (1 ≤ N ≤ 100 000). В следующую строку через пробел вводятся N чисел (1 ≤ Ai ≤ 10e9). Вам требуется написать метод, который получает на вход массив и изменяет его таким образом, чтобы на первом месте стоял последний элемент, на втором - первый, на третьем - второй и т. д. Выведите N чисел - измененный массив."
      ]
    },
    {
      "cell_type": "markdown",
      "source": [
        "**Решение задания № 2:**"
      ],
      "metadata": {
        "id": "Igfn0BuXFCwX"
      }
    },
    {
      "cell_type": "code",
      "source": [
        "N=int(input())\n",
        "mass=list(map(int,input().split()))\n",
        "mass.insert(0,mass[N-1])\n",
        "mass.pop()\n",
        "print(mass)"
      ],
      "metadata": {
        "id": "4YCI-NUgD6v_"
      },
      "execution_count": null,
      "outputs": []
    },
    {
      "cell_type": "markdown",
      "metadata": {
        "id": "6uUXE1-VLq8X"
      },
      "source": [
        "**Задание №3**\n",
        "\n",
        "На берегу реки стояли n рыбаков, все они хотели перебраться на другой берег. Одна лодка может выдержать не более m килограмм, при этом в лодку помещается не более 2 человек. Определите, какое минимальное число лодок нужно, чтобы перевезти на другой берег всех рыбаков\n",
        "В первую строку вводится число m (1 ≤ m ≤ 10e6) - максимальная масса, которую может выдержать одна лодка. Во вторую строку вводится число n (1 ≤ n ≤ 100) - количество рыбаков. В следующие N строк вводится по одному числу Ai (1 ≤  Ai ≤ m) - вес каждого путешественника.\n",
        "Программа должна вывести одно число - минимальное количество лодок, необходимое для переправки всех рыбаков на противоположный берег."
      ]
    },
    {
      "cell_type": "markdown",
      "source": [
        "**Решение задания № 3:**"
      ],
      "metadata": {
        "id": "bCEyXIcDFEg-"
      }
    },
    {
      "cell_type": "code",
      "source": [
        "m=int(input()) # макс масса для лодки\n",
        "n=int(input()) # число рыбаков\n",
        "mass=[]\n",
        "l=0\n",
        "for i in range(n):\n",
        "    Ai=int(input())\n",
        "    mass.append(Ai)\n",
        "mass.sort()\n",
        "while (n>=1):\n",
        "    if len(mass)==1:\n",
        "        l+=1\n",
        "    elif mass[0]+mass[n-1]>m:\n",
        "        l+=1\n",
        "        mass.pop()\n",
        "        n-=1\n",
        "    elif mass[0]+mass[n-1]<=m:\n",
        "        l+=1\n",
        "        mass.pop(0)\n",
        "        mass.pop()\n",
        "        n-=2\n",
        "print(l)"
      ],
      "metadata": {
        "id": "DhtV4R0vD7NH"
      },
      "execution_count": null,
      "outputs": []
    },
    {
      "cell_type": "markdown",
      "metadata": {
        "id": "6Z7BGsTvDgTy"
      },
      "source": [
        "## Урок №9. Множества"
      ]
    },
    {
      "cell_type": "markdown",
      "metadata": {
        "id": "QiwxP7W-DkPC"
      },
      "source": [
        "**Задание №1**\n",
        "\n",
        "В первую строку вводится число N – количество чисел (1 ≤ N ≤ 100000). Во вторую строку вводится через пробел N чисел, каждое не превышает 2*10e9 по модулю. Требуется выяснить, сколько среди этих чисел различных. Выведите число, равное количеству различных чисел среди данных."
      ]
    },
    {
      "cell_type": "markdown",
      "source": [
        "**Решение задания № 1:**"
      ],
      "metadata": {
        "id": "TVvxrQOLFGnC"
      }
    },
    {
      "cell_type": "code",
      "source": [
        "n=int(input())\n",
        "mass=list(map(int,input().split()))\n",
        "mn=set(mass)\n",
        "print(len(mn))"
      ],
      "metadata": {
        "id": "jddZ19QmD8Lm",
        "colab": {
          "base_uri": "https://localhost:8080/"
        },
        "outputId": "9db0ab0a-189e-47e4-eada-69651e317dc5"
      },
      "execution_count": null,
      "outputs": [
        {
          "output_type": "stream",
          "name": "stdout",
          "text": [
            "10\n",
            "-45 67 322 -45 56 87 2 5 2 45\n",
            "8\n"
          ]
        }
      ]
    },
    {
      "cell_type": "markdown",
      "metadata": {
        "id": "CmNxSPwIMTOF"
      },
      "source": [
        "**Задание №2**\n",
        "\n",
        "Вводятся два списка чисел, которые могут содержать до 100000 чисел каждый. Все числа каждого списка находятся на отдельной строке. Выведите, сколько чисел содержится одновременно как в первом списке, так и во втором."
      ]
    },
    {
      "cell_type": "markdown",
      "source": [
        "**Решение задания № 2:**"
      ],
      "metadata": {
        "id": "YAPEyd8FFICH"
      }
    },
    {
      "cell_type": "code",
      "source": [
        "n1=int(input())\n",
        "mass1=list(map(int,input().split()))\n",
        "n2=int(input())\n",
        "mass2=list(map(int,input().split()))\n",
        "mn1=set(mass1)\n",
        "mn2=set(mass2)\n",
        "res=mn1.intersection(mn2)\n",
        "print(len(res))"
      ],
      "metadata": {
        "id": "BVde19ayD8wh",
        "colab": {
          "base_uri": "https://localhost:8080/"
        },
        "outputId": "4f0973c2-a9df-4201-a524-8d7691a50321"
      },
      "execution_count": null,
      "outputs": [
        {
          "output_type": "stream",
          "name": "stdout",
          "text": [
            "3\n",
            "34 -09 67\n",
            "6\n",
            "-09 56 67 34 12 5\n",
            "3\n"
          ]
        }
      ]
    },
    {
      "cell_type": "markdown",
      "metadata": {
        "id": "TVJngEkjMgDG"
      },
      "source": [
        "**Задание №3**\n",
        "\n",
        "Во входную строку водится последовательность чисел через пробел. Для каждого числа выведите слово ”YES” (в отдельной строке), если это число ранее встречалось в последовательности или ”NO”, если не встречалось."
      ]
    },
    {
      "cell_type": "markdown",
      "source": [
        "**Решение задания № 3:**"
      ],
      "metadata": {
        "id": "1abwOu8IFJdS"
      }
    },
    {
      "cell_type": "code",
      "source": [
        "mass=list(map(int,input().split()))\n",
        "mn=set()\n",
        "for i in mass:\n",
        "    if i in mn:\n",
        "        print('yes')\n",
        "    else:\n",
        "        print('no')\n",
        "        mn.add(i)\n"
      ],
      "metadata": {
        "id": "9sgPN2NID9P-",
        "colab": {
          "base_uri": "https://localhost:8080/"
        },
        "outputId": "855a0d1d-5494-43c3-f238-f0b09d557729"
      },
      "execution_count": null,
      "outputs": [
        {
          "output_type": "stream",
          "name": "stdout",
          "text": [
            "23 87 45 67 98 234 98 23 45\n",
            "no\n",
            "no\n",
            "no\n",
            "no\n",
            "no\n",
            "no\n",
            "yes\n",
            "yes\n",
            "yes\n"
          ]
        }
      ]
    },
    {
      "cell_type": "markdown",
      "metadata": {
        "id": "YmCJZ5QCrjDz"
      },
      "source": [
        "## Урок №10. Словари"
      ]
    },
    {
      "cell_type": "markdown",
      "metadata": {
        "id": "d69QF1WOrqmM"
      },
      "source": [
        "**Задание №1**\n",
        "\n",
        "Ранее вы выполняли задание связанное с ветеринарной клиникой. В той задаче вам предстояло вывести информацию о питомце на экран. Сейчас вам необходимо создать словарь `pets = {}`\n",
        "\n",
        "Примерный вид будет следующим:\n",
        "\n",
        "```\n",
        "pets = {\n",
        "  \"Имя питомца\": {\n",
        "    'Вид питомца': # придумайте каким образом сюда внести информацию,\n",
        "    'Возраст питомца': # придумайте каким образом сюда внести информацию,\n",
        "    'Имя владельца': # придумайте каким образом сюда внести информацию\n",
        "  }\n",
        "}\n",
        "```\n",
        "\n",
        "У вас должен получиться словарь, с ещё одним словарём внутри. То есть, есть словарь `pets`. Он в себе хранит ещё один словарь, который обозначается именем питомца. Имя питомца также нужно каким-то образом вносить туда.\n",
        "\n",
        "Задача не будет считаться выполненной, если вы заходите сразу внести информацию, не прибегая в функции `input()`\n",
        "\n",
        "Например: </br>\n",
        "```\n",
        "pets = {\n",
        "  \"Мухтар\": {\n",
        "    \"Вид питомца\": \"Собака\",\n",
        "    \"Возраст питомца\": 9,\n",
        "    \"Имя владельца\": \"Павел\"\n",
        "  }\n",
        "}\n",
        "```\n",
        "Так должен будет выглядеть результируюший словарь, но первоначальный его вид - пустой. Его необходимо заполнить пользовательским вводом через консоль с помощью функции `input()`, а не вписать значения уже в самом коде.\n",
        "\n",
        "Возраст питомца должен быть типа `int`\n",
        "Всё остальное - строки\n",
        "\n",
        "Так как возраст питомца указывается типом `int`. Необходимо, в соответствии с указанным возрастом выводит `год`, `года` или `лет`. Например:\n",
        "\n",
        "`Его возраст: 24 года` </br>\n",
        "`Его возраст: 21 год` </br>\n",
        "`Его возраст: 19 лет` </br>\n",
        "\n",
        "И теперь осталось только получить всю информацию о питомце в виде строки, как из задания по `Урок №3. Ввод-вывод и базовые переменные. Задание №1`, но с небольшими изменениями. Для получения информации необходимо воспользоваться методами словаря `keys()` и `values()`:  </br>\n",
        "`Это желторотый питон по кличке \"Каа\". Возраст питомца: 19 лет. Имя владельца: Саша`"
      ]
    },
    {
      "cell_type": "markdown",
      "source": [
        "**Решение задания № 1:**"
      ],
      "metadata": {
        "id": "4Yua-YUyFLo9"
      }
    },
    {
      "cell_type": "code",
      "source": [
        "pest=dict()\n",
        "basa=dict()\n",
        "req=0\n",
        "while req!='выход':\n",
        "  print('Ввести новую запись?(да/нет)')\n",
        "  o=input()\n",
        "  if o=='да':\n",
        "    print('Введите имя питомца')\n",
        "    k=input()\n",
        "    pest[k]=0\n",
        "  elif o=='нет':\n",
        "    print('Заполнить данные? (да/нет)')\n",
        "    p=input()\n",
        "    if p=='да':\n",
        "      print('Введите имя питомца для заполнения данных')\n",
        "      k=input()\n",
        "      if k in pest.keys():\n",
        "        print('Введите вид питомца')\n",
        "        a=input()\n",
        "        print('Введите возраст питомца')\n",
        "        b=int(input())\n",
        "        if b in {10, 11, 12, 13, 14}:\n",
        "          b=str(b)+' лет'\n",
        "        elif b%10==1:\n",
        "          b=str(b)+' год'\n",
        "        elif b%10==2 or b%10==3 or b%10==4:\n",
        "          b=str(b)+' года'\n",
        "        else:\n",
        "          b=str(b)+' лет'\n",
        "        print('Введите имя владельца')\n",
        "        c=input()\n",
        "        pest[k]={'Вид питомца':a, 'Возраст питомца':b, 'Имя владельца':c}\n",
        "      else:\n",
        "       print('Такого имени нет.')\n",
        "    else:\n",
        "      req='выход'\n",
        "print(pest)\n",
        "\n",
        "\n",
        "\n"
      ],
      "metadata": {
        "id": "oUiyEtAMD_zG",
        "colab": {
          "base_uri": "https://localhost:8080/"
        },
        "outputId": "9fbfd599-e316-41b0-afcb-0e6c58d70a4a"
      },
      "execution_count": null,
      "outputs": [
        {
          "output_type": "stream",
          "name": "stdout",
          "text": [
            "Ввести новую запись?(да/нет)\n",
            "да\n",
            "Введите имя питомца\n",
            "Каа\n",
            "Ввести новую запись?(да/нет)\n",
            "да\n",
            "Введите имя питомца\n",
            "Мухтар\n",
            "Ввести новую запись?(да/нет)\n",
            "нет\n",
            "Заполнить данные? (да/нет)\n",
            "да\n",
            "Введите имя питомца для заполнения данных\n",
            "Каа\n",
            "Введите вид питомца\n",
            "желторотый удав\n",
            "Введите возраст питомца\n",
            "19\n",
            "Введите имя владельца\n",
            "Павел\n",
            "Ввести новую запись?(да/нет)\n",
            "нет\n",
            "Заполнить данные? (да/нет)\n",
            "да\n",
            "Введите имя питомца для заполнения данных\n",
            "Мухтар\n",
            "Введите вид питомца\n",
            "собака\n",
            "Введите возраст питомца\n",
            "9\n",
            "Введите имя владельца\n",
            "Саша\n",
            "Ввести новую запись?(да/нет)\n",
            "нет\n",
            "Заполнить данные? (да/нет)\n",
            "нет\n",
            "{'Каа': {'Вид питомца': 'желторотый удав', 'Возраст питомца': '19 лет', 'Имя владельца': 'Павел'}, 'Мухтар': {'Вид питомца': 'собака', 'Возраст питомца': '9 лет', 'Имя владельца': 'Саша'}}\n"
          ]
        }
      ]
    },
    {
      "cell_type": "markdown",
      "metadata": {
        "id": "vDiMnmyvsktz"
      },
      "source": [
        "**Задание №2**\n",
        "\n",
        "С помощью цикла создайте словарь, в котором ключи будут, например от числа 10, до -5 (включительно). А значениями этих ключей будут сами эти числа возведённые в степени равных этим числам\n",
        "\n",
        "Например:\n",
        "```\n",
        "my_dict = {\n",
        "  10: 10000000000,\n",
        "  9: 387420489,\n",
        "  # и так далее ...\n",
        "  -5: -0.00032\n",
        "}\n",
        "```\n",
        "\n"
      ]
    },
    {
      "cell_type": "markdown",
      "source": [
        "**Решение задания № 2:**"
      ],
      "metadata": {
        "id": "StiyUmWkFNX2"
      }
    },
    {
      "cell_type": "code",
      "source": [
        "a=dict()\n",
        "for i in range (10,-6,-1):\n",
        "    a[i]=i**i\n",
        "print(a)"
      ],
      "metadata": {
        "id": "kuz3eq29EAVH",
        "colab": {
          "base_uri": "https://localhost:8080/"
        },
        "outputId": "30156e4a-3de5-41be-a3ef-ceb41b4c273e"
      },
      "execution_count": null,
      "outputs": [
        {
          "output_type": "stream",
          "name": "stdout",
          "text": [
            "{10: 10000000000, 9: 387420489, 8: 16777216, 7: 823543, 6: 46656, 5: 3125, 4: 256, 3: 27, 2: 4, 1: 1, 0: 1, -1: -1.0, -2: 0.25, -3: -0.037037037037037035, -4: 0.00390625, -5: -0.00032}\n"
          ]
        }
      ]
    },
    {
      "cell_type": "markdown",
      "metadata": {
        "id": "8G0LFlQQsqI8"
      },
      "source": [
        "## Урок №11. Функции"
      ]
    },
    {
      "cell_type": "markdown",
      "metadata": {
        "id": "8CUopsMcsvwC"
      },
      "source": [
        "**Задание №1**\n",
        "\n",
        "- Создайте функцию, которая принимает в качестве параметра - натуральное целое число.\n",
        "- Данная функция находит факториал полученного числа\n",
        "\n",
        "Например, факториал числа `3` это число `6`.\n",
        "\n",
        "- Теперь создайте список факториалов чисел от получившегося ранее факториала `6`, до `1`.\n",
        "\n",
        "В итоге, на вход программа получает например число `3`, возвращает число `6` (факториал числа `3`) и вам нужно сделать список из факториалов числа `6` в убывающем порядке. Находим факториал числа `6` - это `720`, затем от числа `5` - это `120` и так далее вплоть до `1`\n",
        "\n",
        "То есть, результирующий список будет выглядеть в нашем примере так: <br>\n",
        "`[720, 120, 24, 6, 2, 1]`"
      ]
    },
    {
      "cell_type": "markdown",
      "source": [
        "**Решение задания № 1:**"
      ],
      "metadata": {
        "id": "3lxJgFj0FPSo"
      }
    },
    {
      "cell_type": "code",
      "source": [
        "def y(x):\n",
        "  if x==1:\n",
        "    return 1\n",
        "  return y(x-1)*x\n",
        "\n",
        "a=[]\n",
        "n=int(input())\n",
        "for i in range (n,0,-1):\n",
        "  a.append(y(i))\n",
        "print(a)"
      ],
      "metadata": {
        "id": "9n81R2rdEEVE",
        "colab": {
          "base_uri": "https://localhost:8080/"
        },
        "outputId": "0a698a15-a1e9-48f7-d6ea-f8e1556e2f43"
      },
      "execution_count": null,
      "outputs": [
        {
          "output_type": "stream",
          "name": "stdout",
          "text": [
            "6\n",
            "[720, 120, 24, 6, 2, 1]\n"
          ]
        }
      ]
    },
    {
      "cell_type": "markdown",
      "metadata": {
        "id": "30MjG7njtHIS"
      },
      "source": [
        "**Задание №2**\n",
        "\n",
        "В `Урок №10. Задание №1` вы создавали словарь с информацией о питомце. Теперь нам нужна \"настоящая\" база данных для ветеринарной клиники.\n",
        "\n",
        "Подробный требуемый функционал будет ниже. Пока что справка:\n",
        "\n",
        "- Создайте функцию `create`\n",
        "- Создайте функцию `read`\n",
        "- Создайте функцию `update`\n",
        "- Создайте функцию `delete`\n",
        "- Используйте словарь `pets`, который будет предоставлен ниже, либо создайте свой аналогичный\n",
        "\n",
        "**Функция `create`:**\n",
        "\n",
        "Данная функция будет создавать новую запись с информацией о питомце и добавлять эту информацию в наш словарь `pets`\n",
        "\n",
        "**Функция `read`**\n",
        "\n",
        "Данная функция будет отображать информацию о запрашиваемом питомце в виде: <br>\n",
        "`Это желторотый питон по кличке \"Каа\". Возраст питомца: 19 лет. Имя владельца: Саша`\n",
        "\n",
        "**Функция `update`**\n",
        "\n",
        "Данная функция будет обновлять информацию об указанном питомце\n",
        "\n",
        "**Функция `delete`**\n",
        "\n",
        "Данная функция будет удалять запись о существующем питомце\n",
        "\n",
        "-- --\n",
        "Структруа результирующего словаря `pets` будет как и в `Урок №10. Задание №1`, но с небольшим видоизменением: <br>\n",
        "\n",
        "**Словарь pets**\n",
        "```python\n",
        "pets = {\n",
        "    1:\n",
        "        {\n",
        "            \"Мухтар\": {\n",
        "                \"Вид питомца\": \"Собака\",\n",
        "                \"Возраст питомца\": 9,\n",
        "                \"Имя владельца\": \"Павел\"\n",
        "            },\n",
        "        },\n",
        "    2:\n",
        "        {\n",
        "            \"Каа\": {\n",
        "                \"Вид питомца\": \"желторотый питон\",\n",
        "                \"Возраст питомца\": 19,\n",
        "                \"Имя владельца\": \"Саша\"\n",
        "            },\n",
        "        },\n",
        "    # и так далее\n",
        "}\n",
        "\n",
        "```\n",
        "\n",
        "Здесь, 1 и 2 - это идентификаторы наших питомцев. Это уникальные ключи, по которым мы сможем обращаться к нашим записям в \"базе данных\"\n",
        "\n",
        "Суть будущей программы будет заключаться в следующем:\n",
        "- Программа будет работать с помощью цикла while с условием `command` != 'stop', то есть до тех пор, пока на предложение ввести команду, пользователь не введёт слово `stop`\n",
        "- Перед взаимодействием с \"базой данных\" запрашивается одна из команд в качестве пользовательского ввода. Пусть это будет переменная `command`\n",
        "- Функция create должна добавлять новую информацию таким образом, чтобы идентификатор увеличивался на единицу. Чтобы у вас была возможность получать последний ключ в словаре воспользуйтесь импортом модуля `collections`. В начале вашей программы пропишите строчку: `import collection`, а в функции `create` в первых строках пропишите следующий код: <br>\n",
        "```python\n",
        "def create():\n",
        "    last = collections.deque(pets, maxlen=1)[0]\n",
        "```\n",
        "`last` в данном случае и будет число последнего ключа (или в нашей логике - идентификатора записи). Именно его и необходимо будет увеличивать на единицу при добавлении следующей записи.\n",
        "\n",
        "Как вам уже известно - суть функций заключается в том, чтобы использовать один и тот же код в нескольких местах. В данной задаче вам предстоит получать информацию о питомце несколько раз. Чтобы не повторяться в коде, вам нужно создать такие функции <br>\n",
        "\n",
        "`get_pet(ID)`:\n",
        "```python\n",
        "def get_pet(ID):\n",
        "  # функция, с помощью которой вы получите информацию о питомце в виде словаря\n",
        "  # сделайте проверку, если питомца с таким ID нету в нашей \"базе данных\"\n",
        "  # верните в этом случае False\n",
        "  # а если питомец всё же есть в \"базе данных\" - верните информацию о нём\n",
        "  # выглядеть это может примерно так:\n",
        "  return pets[ID] if ID in pets.keys() else False\n",
        "```\n",
        "`get_suffix(age)`:\n",
        "```python\n",
        "def get_suffix(age):\n",
        "  # функция, с помощью которой можно получить суффикс\n",
        "  # 'год', 'года', 'лет'\n",
        "  # реализацию этой функции вам предстоит придумать самостоятельно\n",
        "  # функция будет возвращать соответствующую строку\n",
        "  return\n",
        "```\n",
        "`pets_list()`:\n",
        "```python\n",
        "def pets_list():\n",
        "  # Эта функция будет создана для удобства отображения всего списка питомцев\n",
        "  # Информацию по каждому питомцу можно вывести с помощью цикла for\n",
        "```\n",
        "\n",
        "Обратите внимание, если ID не существует в словаре с питомцами - будет возникать ошибка. Вам можно от неё избавиться, если правильно составить проверочное условие. Здесь не потребуется использовать такие конструкции, как\n",
        "`try`, `except`, чтобы обработать возникшую ошибку"
      ]
    },
    {
      "cell_type": "markdown",
      "source": [
        "**Решение задания № 2:**"
      ],
      "metadata": {
        "id": "cPt05OXhFRym"
      }
    },
    {
      "cell_type": "code",
      "source": [
        "from os import name\n",
        "\n",
        "def vozr(x):\n",
        "  if x in {10, 11, 12, 13, 14}:\n",
        "        return str(x)+' лет'\n",
        "  elif x%10==1:\n",
        "        return str(x)+' год'\n",
        "  elif x%10==2 or x%10==3 or x%10==4:\n",
        "        return str(x)+' года'\n",
        "  else:\n",
        "        return str(x)+' лет'\n",
        "\n",
        "\n",
        "def creat():\n",
        "    if len(pets)==0:\n",
        "      k=1\n",
        "    else:\n",
        "      last=collections.deque(pets, maxlen=1)[0]\n",
        "      k=last+1\n",
        "    print('Введите имя питомца')\n",
        "    name=input()\n",
        "    pets[k]=name\n",
        "    pet=dict()\n",
        "    pet[name]=0\n",
        "    print('Введите вид питомца')\n",
        "    a=input()\n",
        "    print('Введите возраст питомца')\n",
        "    vos=int(input())\n",
        "    x=vozr(vos)\n",
        "    print('Введите имя владельца')\n",
        "    c=input()\n",
        "    pet[name]={'Вид питомца':a, 'Возраст питомца':x, 'Имя владельца':c}\n",
        "    pets[k]=pet\n",
        "\n",
        "\n",
        "def poisk(ID):\n",
        "  return pets[ID] if ID in pets.keys() else print('Такой ID не найден')\n",
        "\n",
        "\n",
        "\n",
        "\n",
        "def read():\n",
        "  print('Введите ID питомца')\n",
        "  ID=int(input())\n",
        "  p=poisk(ID)\n",
        "  for i in p.keys():\n",
        "    namep=i\n",
        "    l=p[namep]\n",
        "    vidp=l['Вид питомца']\n",
        "    vosp=l['Возраст питомца']\n",
        "    vladp=l['Имя владельца']\n",
        "    print('Это '+vidp+' по кличке '+namep+'. Возрвст питомца: '+vosp+'. Имя владельца: '+vladp+'.')\n",
        "\n",
        "\n",
        "\n",
        "def update():\n",
        "  print('Введите ID питомца')\n",
        "  ID=int(input())\n",
        "  p=poisk(ID)\n",
        "  for i in p.keys():\n",
        "    namep=i\n",
        "    l=p[namep]\n",
        "    print('Какие данные нужно заменить: возраст или имя владельца?')\n",
        "    w=input()\n",
        "    if w=='возраст':\n",
        "      d=int(input())\n",
        "      l['Возраст питомца']=vozr(d)\n",
        "    else:\n",
        "      print('Имя владельца')\n",
        "      l['Имя владельца']=input()\n",
        "      p[namep]=l\n",
        "      pets[ID]=p\n",
        "\n",
        "def delete():\n",
        "  print('Введите ID записи, которую хотите удалить')\n",
        "  ID=int(input())\n",
        "  if ID in pets.keys():\n",
        "    del pets[ID]\n",
        "    print('Запись удалена')\n",
        "  else:\n",
        "    print('Такой ID не найден')\n",
        "\n",
        "\n",
        "import collections\n",
        "pets=dict()\n",
        "pet=dict()\n",
        "basa=dict()\n",
        "print('Введите команду')\n",
        "command=input()\n",
        "while command != 'stop':\n",
        "    if command == 'creat':\n",
        "      creat()\n",
        "    elif command == 'read':\n",
        "      read()\n",
        "    elif command =='update':\n",
        "      update()\n",
        "    elif command =='delete':\n",
        "      delete()\n",
        "    print('Введите команду')\n",
        "    command=input()\n",
        "\n",
        "\n",
        "print(pets)"
      ],
      "metadata": {
        "id": "y_DCOwsPECkQ",
        "colab": {
          "base_uri": "https://localhost:8080/"
        },
        "outputId": "bf13488c-f476-4946-95fb-0d56c585265b"
      },
      "execution_count": null,
      "outputs": [
        {
          "output_type": "stream",
          "name": "stdout",
          "text": [
            "Введите команду\n",
            "creat\n",
            "Введите имя питомца\n",
            "мухтар\n",
            "Введите вид питомца\n",
            "собака\n",
            "Введите возраст питомца\n",
            "9\n",
            "Введите имя владельца\n",
            "павел\n",
            "Введите команду\n",
            "скуфе\n",
            "Введите команду\n",
            "creat\n",
            "Введите имя питомца\n",
            "каа\n",
            "Введите вид питомца\n",
            "желторотый удав\n",
            "Введите возраст питомца\n",
            "19\n",
            "Введите имя владельца\n",
            "Саша\n",
            "Введите команду\n",
            "read\n",
            "Введите ID питомца\n",
            "2\n",
            "Это желторотый удав по кличке каа. Возрвст питомца: 19 лет. Имя владельца: Саша.\n",
            "Введите команду\n",
            "update\n",
            "Введите ID питомца\n",
            "1\n",
            "Какие данные нужно заменить: возраст или имя владельца?\n",
            "возраст\n",
            "10\n",
            "Введите команду\n",
            "delete\n",
            "Введите ID записи, которую хотите удалить\n",
            "2\n",
            "Запись удалена\n",
            "Введите команду\n",
            "stop\n",
            "{1: {'мухтар': {'Вид питомца': 'собака', 'Возраст питомца': '10 лет', 'Имя владельца': 'павел'}}}\n"
          ]
        }
      ]
    },
    {
      "cell_type": "markdown",
      "metadata": {
        "id": "8THfEQZ9tTbK"
      },
      "source": [
        "## Урок №13. Двумерные списки"
      ]
    },
    {
      "cell_type": "markdown",
      "metadata": {
        "id": "TqAPbCg2tYE7"
      },
      "source": [
        "**Задание №1**\n",
        "\n",
        "С помощью цикла создайте матрицу вида 10x10 (пример): <br>\n",
        "```python\n",
        "[[0, -2, -5, -5, 0, -4, -1, -23, -11, -20],\n",
        "[-4, -6, 16, 9, -8, 2, 10, -32, -18, -13],\n",
        "[21, 7, -6, -3, 34, -7, -23, 25, 27, 38],\n",
        "[7, 29, 38, 19, 55, 48, 46, 49, -8, -46],\n",
        "[80, -3, 76, 46, 72, -33, 14, 0, 71, -20],\n",
        "[82, 95, 23, -6, 1, 70, 50, 16, 25, 7],\n",
        "[52, 36, -25, -35, 18, -36, 93, 11, -44, 9],\n",
        "[114, 108, 33, 61, -4, 131, 34, -26, 47, -17],\n",
        "[37, 56, 135, -12, 34, 67, -17, 14, 93, -67],\n",
        "[-4, 23, 175, -44, 30, -38, 89, 159, 28, 178]]\n",
        "```\n",
        "\n",
        "И ещё одну - такой же размерности. Числа в матрице выше привидены в качестве примера (одна из генераций)\n",
        "\n",
        "Итого у вас должно получиться сперва две матрица одинаковой размерности\n",
        "\n",
        "И теперь вам нужно сложить эти две матрицы в третью. Формулу сложения матриц, вы можете найти в интернете, либо посетив этот [ресурс](https://studwork.org/spravochnik/matematika/matricy/slojenie-matric)\n",
        "\n",
        "Итак. Вы должны создать две матрицы\n",
        "\n",
        "Чтобы заполнить матрицы различными значениями - воспользуйтесь модулем `random`\n",
        "\n",
        "Для подключения модуля `random` в код используйте строчку, которую нужно поместить в самое начало вашего скрипта\n",
        "```python\n",
        "import random\n",
        "```\n",
        "\n",
        "**Для справки:** <br>\n",
        "[Random. Официальная документация по модулю (англ.яз)](https://docs.python.org/3/library/random.html) <br>\n",
        "[Random. Информация на русском языке](https://pythonworld.ru/moduli/modul-random.html)\n",
        "\n",
        "Для начала вы можете просто создать переменные `matrix_1` и `matrix_2`\n",
        "\n",
        "```python\n",
        "matrix_1 = [[0, -2, -1, -6, -6, 0, -9, -8, -30, -9],\n",
        "[5, 12, 4, -16, -4, -9, -16, -15, 1, -26],\n",
        "[13, 39, 14, 23, -4, 40, 32, 6, -8, 23],\n",
        "[13, -8, 34, 49, 30, 18, 47, 11, -24, 11],\n",
        "[21, 73, 71, 61, -1, 79, -34, 22, 69, 67],\n",
        "[75, 25, 25, 39, 100, -12, -21, 81, -10, 87],\n",
        "[81, 63, 102, 104, 53, -44, 71, -36, -36, -9],\n",
        "[7, 98, 26, -3, 128, 94, 18, -26, 14, 21],\n",
        "[65, 128, 80, 124, 27, -32, 73, 59, 19, 34],\n",
        "[43, 111, 38, 149, 5, 112, 79, 53, 15, 92]]\n",
        "\n",
        "matrix_2 = [[0, 4, 6, 11, 15, 6, 9, 26, 15, 21],\n",
        "[-5, 4, -15, -9, -4, 2, -8, 19, -4, -1],\n",
        "[-2, -39, -19, 14, 22, 5, -34, 15, 16, -9],\n",
        "[-22, -52, 11, -11, -3, 16, -11, -6, -32, -2],\n",
        "[-61, -47, -5, -58, 16, -13, 28, -36, -64, 2],\n",
        "[-29, 23, 19, 2, -14, -87, 7, -88, 39, 7],\n",
        "[-6, 18, -97, 26, -64, 0, -72, -34, -68, -92],\n",
        "[-120, -117, -72, -129, -139, 16, -61, 36, -137, -29],\n",
        "[-112, -83, 7, -119, -132, -129, -143, -154, -23, -34],\n",
        "[32, -67, -75, -92, 15, -163, 18, 31, -162, -16]]\n",
        "```\n",
        "\n",
        "И теперь нужно придумать, как их сложить, чтобы получить `matrix_3`:\n",
        "```python\n",
        "matrix_3 = [[0, 2, 5, 5, 9, 6, 0, 18, -15, 12],\n",
        "[0, 16, -11, -25, -8, -7, -24, 4, -3, -27],\n",
        "[11, 0, -5, 37, 18, 45, -2, 21, 8, 14],\n",
        "[-9, -60, 45, 38, 27, 34, 36, 5, -56, 9],\n",
        "[-40, 26, 66, 3, 15, 66, -6, -14, 5, 69],\n",
        "[46, 48, 44, 41, 86, -99, -14, -7, 29, 94],\n",
        "[75, 81, 5, 130, -11, -44, -1, -70, -104, -101],\n",
        "[-113, -19, -46, -132, -11, 110, -43, 10, -123, -8],\n",
        "[-47, 45, 87, 5, -105, -161, -70, -95, -4, 0],\n",
        "[75, 44, -37, 57, 20, -51, 97, 84, -147, 76]]\n",
        "```\n",
        "\n",
        "Потренируйтесь сперва в сложении матриц, а затем попробуйте с помощью модуля `random` сгенерировать матрицы подобных размеров и уже на них применить навыки сложения `matrix_1` и `matrix_2`\n",
        "\n",
        "Задание считается выполненным, если вы напишите алгоритм, который будет уметь как складывать матрицы, так и генерировать матрица различных размерностей. Будь то матрицы `10х10` или `4х3`\n"
      ]
    },
    {
      "cell_type": "markdown",
      "source": [
        "**Решение задания № 1:**"
      ],
      "metadata": {
        "id": "KSmpj3yAFWcS"
      }
    },
    {
      "cell_type": "code",
      "source": [
        "def ren():\n",
        "    return random.randint(-100,100)\n",
        "\n",
        "import random\n",
        "n=int(input())\n",
        "m=int(input())\n",
        "cp=[]\n",
        "cp1=[[ren() for i in range(n)] for i in range(m)]\n",
        "cp2=[[ren() for i in range(n)] for i in range(m)]\n",
        "print(cp1)\n",
        "print(cp2)\n",
        "cp=[[cp1[i][j]+cp2[i][j] for j in range(n)] for i in range(m)]\n",
        "print(cp)\n"
      ],
      "metadata": {
        "id": "blJFj2O1EGHP",
        "colab": {
          "base_uri": "https://localhost:8080/"
        },
        "outputId": "820e3eee-7452-42cd-be4f-af85ef1e0bd9"
      },
      "execution_count": null,
      "outputs": [
        {
          "output_type": "stream",
          "name": "stdout",
          "text": [
            "10\n",
            "10\n",
            "[[100, -91, -52, 44, 9, -35, 79, -17, -70, 46], [69, -19, 9, -62, 19, 89, -78, 100, 51, 39], [37, 22, -34, 58, 21, 40, -40, 15, 23, 21], [-62, -10, -81, 18, 63, -80, -62, -53, -21, -13], [7, 63, 28, -69, -21, -59, 82, -30, 88, -54], [-83, -58, -5, 70, 74, 89, 63, -68, -80, 95], [-74, 63, -40, -71, 50, -34, 36, 24, 82, 88], [88, 23, 4, -57, -44, 87, 78, -24, 17, 61], [-22, 42, -47, 10, 55, -59, -43, 67, -84, -90], [32, -83, 37, 13, -20, 36, 68, 5, -18, -67]]\n",
            "[[-80, -71, 69, -84, -82, 51, -28, 94, -13, 73], [58, -35, -36, 37, 93, -4, -61, -60, 22, -1], [-83, 61, -22, 55, -52, -100, -79, -37, -38, -50], [-3, -6, 19, 92, -76, 62, -6, 40, 12, -57], [-86, 8, 20, 82, -52, 28, 0, 25, -20, 31], [28, 37, -34, 50, 24, -87, 55, -5, 93, -40], [-97, 0, 100, -56, -43, 76, -46, 25, -48, 86], [53, 79, 28, -56, -77, -79, -74, -91, 80, -22], [-71, 1, 34, 41, -69, 25, 79, -22, -76, 34], [47, -76, -97, -26, -46, 76, 13, -49, 38, 80]]\n",
            "[[20, -162, 17, -40, -73, 16, 51, 77, -83, 119], [127, -54, -27, -25, 112, 85, -139, 40, 73, 38], [-46, 83, -56, 113, -31, -60, -119, -22, -15, -29], [-65, -16, -62, 110, -13, -18, -68, -13, -9, -70], [-79, 71, 48, 13, -73, -31, 82, -5, 68, -23], [-55, -21, -39, 120, 98, 2, 118, -73, 13, 55], [-171, 63, 60, -127, 7, 42, -10, 49, 34, 174], [141, 102, 32, -113, -121, 8, 4, -115, 97, 39], [-93, 43, -13, 51, -14, -34, 36, 45, -160, -56], [79, -159, -60, -13, -66, 112, 81, -44, 20, 13]]\n"
          ]
        }
      ]
    },
    {
      "cell_type": "markdown",
      "metadata": {
        "id": "DaICRFa4t14h"
      },
      "source": [
        "## Урок №14. Рекурсия"
      ]
    },
    {
      "cell_type": "markdown",
      "metadata": {
        "id": "zi26f0Rqt-aa"
      },
      "source": [
        "**Задание №1**\n",
        "\n",
        "\n",
        "Есть последовательность\n",
        "```python\n",
        "my_list = [0, 1, 2, 3, 4, 5, 6, 7, 8, 9, 10, 11, 12, 13, 14, 15, 16]\n",
        "```\n",
        "\n",
        "Напишите рекурсивную функцию, которая выведет все элементы от первого до последнего и в конце отобразит сообщение\n",
        "`Конец списка`, если выводить больше нечего. Циклы использовать запрещено"
      ]
    },
    {
      "cell_type": "markdown",
      "source": [
        "**Решение задания № 1:**"
      ],
      "metadata": {
        "id": "W67qeTAFFcBE"
      }
    },
    {
      "cell_type": "code",
      "source": [
        "def r(n):\n",
        "    if n<0:\n",
        "        return\n",
        "    r(n-1)\n",
        "    print(my_list[n])\n",
        "\n",
        "\n",
        "\n",
        "\n",
        "my_list=[0, 1, 2, 3, 4, 5, 6, 7, 8, 9, 10, 11, 12, 13, 14, 15, 16]\n",
        "n=len(my_list)-1\n",
        "r(n)\n",
        "print('Конец списка')"
      ],
      "metadata": {
        "id": "4QAuKSSBEISL",
        "colab": {
          "base_uri": "https://localhost:8080/"
        },
        "outputId": "63675796-668a-4e21-eaf3-08d5a30a4192"
      },
      "execution_count": null,
      "outputs": [
        {
          "output_type": "stream",
          "name": "stdout",
          "text": [
            "0\n",
            "1\n",
            "2\n",
            "3\n",
            "4\n",
            "5\n",
            "6\n",
            "7\n",
            "8\n",
            "9\n",
            "10\n",
            "11\n",
            "12\n",
            "13\n",
            "14\n",
            "15\n",
            "16\n",
            "Конец списка\n"
          ]
        }
      ]
    },
    {
      "cell_type": "markdown",
      "source": [
        "## Урок №15. ООП"
      ],
      "metadata": {
        "id": "eCOzOVU7B8ck"
      }
    },
    {
      "cell_type": "markdown",
      "source": [
        "**Задание №1**\n",
        "\n",
        "Есть родительский класс:"
      ],
      "metadata": {
        "id": "voOakFanAwzt"
      }
    },
    {
      "cell_type": "code",
      "source": [
        "class Transport:\n",
        "\n",
        "    def __init__(self, name, max_speed, mileage):\n",
        "        self.name = name\n",
        "        self.max_speed = max_speed\n",
        "        self.mileage = mileage"
      ],
      "metadata": {
        "id": "ABQZu4pDNIu8"
      },
      "execution_count": null,
      "outputs": []
    },
    {
      "cell_type": "markdown",
      "source": [
        "Создайте объект **Autobus**, который унаследует все переменные и методы родительского класса **Transport** и выведете его."
      ],
      "metadata": {
        "id": "JUx9ONPONJ_x"
      }
    },
    {
      "cell_type": "markdown",
      "source": [
        "Ожидаемый результат вывода:\n",
        "\n",
        "**Название автомобиля: Renaul Logan Скорость: 180 Пробег: 12**"
      ],
      "metadata": {
        "id": "Z8DFuIOoNMXs"
      }
    },
    {
      "cell_type": "markdown",
      "source": [
        "**Решение:**\n"
      ],
      "metadata": {
        "id": "NS5Lff1ENOB4"
      }
    },
    {
      "cell_type": "code",
      "source": [
        "class Transport:\n",
        "\n",
        "    def __init__(self, name, max_speed, mileage):\n",
        "        self.name = name\n",
        "        self.max_speed = max_speed\n",
        "        self.mileage = mileage\n",
        "\n",
        "    def v(self):\n",
        "      print(f\"Название автомобиля: {self.name} Скорость: {self.max_speed} Пробег: {self.mileage}\")\n",
        "\n",
        "Autobus=Transport('Renaut Logan', 180, 12)\n",
        "Autobus.v()"
      ],
      "metadata": {
        "id": "ERym9X2ANQUe",
        "colab": {
          "base_uri": "https://localhost:8080/"
        },
        "outputId": "3abd7090-8d8e-4146-be55-ece655797e39"
      },
      "execution_count": null,
      "outputs": [
        {
          "output_type": "stream",
          "name": "stdout",
          "text": [
            "Название автомобиля: Renaut Logan Скорость: 180 Пробег: 12\n"
          ]
        }
      ]
    },
    {
      "cell_type": "markdown",
      "source": [
        "**Задание №2**\n",
        "\n",
        "Создайте класс **Autobus**, который наследуется от класса **Transport**.\n",
        "\n",
        "Дайте аргументу **Autobus.seating_capacity()** значение  по умолчанию **50**.\n",
        "\n",
        "Используйте переопределение метода.\n",
        "\n",
        "Используйте следующий код для родительского класса транспортного средства:"
      ],
      "metadata": {
        "id": "zrek3eFCNi48"
      }
    },
    {
      "cell_type": "code",
      "source": [
        "class Transport:\n",
        "    def __init__(self, name, max_speed, mileage):\n",
        "        self.name = name\n",
        "        self.max_speed = max_speed\n",
        "        self.mileage = mileage\n",
        "\n",
        "    def seating_capacity(self, capacity):\n",
        "        return f\"Вместимость одного автобуса {self.name}  {capacity} пассажиров\""
      ],
      "metadata": {
        "id": "53-bZo-DNsla"
      },
      "execution_count": null,
      "outputs": []
    },
    {
      "cell_type": "markdown",
      "source": [
        "Ожидаемый результат вывода:\n",
        "\n",
        "**Вместимость одного автобуса Renaul Logan: 50 пассажиров**\n",
        "\n"
      ],
      "metadata": {
        "id": "Fg86YcRdNt_e"
      }
    },
    {
      "cell_type": "markdown",
      "source": [
        "**Решение:**"
      ],
      "metadata": {
        "id": "5Uz2n_h0NvcH"
      }
    },
    {
      "cell_type": "code",
      "source": [
        "\n",
        "class Transport:\n",
        "    def __init__(self, name, max_speed, mileage):\n",
        "        self.name = name\n",
        "        self.max_speed = max_speed\n",
        "        self.mileage = mileage\n",
        "\n",
        "\n",
        "\n",
        "class Autobus(Transport):\n",
        "\n",
        "\n",
        "    def __init__(self, name, max_speed, mileage, capacity):\n",
        "        super().__init__(name, max_speed, mileage)\n",
        "        self.capacity = capacity\n",
        "\n",
        "\n",
        "\n",
        "    def seating_capacity(self, capacity):\n",
        "        return f\"Вместимость одного автобуса {self.name}:  {capacity} пассажиров\"\n",
        "\n",
        "\n",
        "\n",
        "r=Autobus('Renaut Logan', 180, 12, 50)\n",
        "print(r.seating_capacity(50))\n",
        "\n"
      ],
      "metadata": {
        "id": "H83VWFsPNw5N",
        "colab": {
          "base_uri": "https://localhost:8080/"
        },
        "outputId": "85fb9229-38a1-41bf-fac7-e1a1faeb9eec"
      },
      "execution_count": null,
      "outputs": [
        {
          "output_type": "stream",
          "name": "stdout",
          "text": [
            "Вместимость одного автобуса Renaut Logan:  50 пассажиров\n"
          ]
        }
      ]
    },
    {
      "cell_type": "markdown",
      "source": [
        "## Урок №16. Классы и объекты"
      ],
      "metadata": {
        "id": "F5VXwnOUCTDa"
      }
    },
    {
      "cell_type": "markdown",
      "source": [
        "**Задание №1**\n",
        "\n",
        "Создайте класс Касса, который хранит текущее количество денег в кассе, у него есть методы:\n",
        "\n",
        "- top_up(X) - пополнить на X\n",
        "- count_1000() - выводит сколько целых тысяч осталось в кассе\n",
        "- take_away(X) - забрать X из кассы, либо выкинуть ошибку, что не достаточно денег"
      ],
      "metadata": {
        "id": "X5EsM1PrAo1o"
      }
    },
    {
      "cell_type": "code",
      "source": [],
      "metadata": {
        "id": "p_7lLK7EuZWw"
      },
      "execution_count": null,
      "outputs": []
    },
    {
      "cell_type": "markdown",
      "source": [
        "**Задание №2**\n",
        "\n",
        "Создайте класс Черепашка, который хранит позиции x и y черепашки, а также s - количество клеточек, на которое она перемещается за ход\n",
        "\n",
        "у этого класс есть методы:\n",
        "\n",
        "- go_up() - увеличивает y на s\n",
        "- go_down() - уменьшает y на s\n",
        "- go_left() - уменьшает x на s\n",
        "- go_right() - увеличивает y на s\n",
        "- evolve() - увеличивает s на 1\n",
        "- degrade() - уменьшает s на 1 или выкидывает ошибку, когда s может стать ≤ 0\n",
        "- count_moves(x2, y2) - возвращает минимальное количество действий, за которое черепашка сможет добраться до x2 y2 от текущей позиции"
      ],
      "metadata": {
        "id": "P1zagiwUuaI-"
      }
    },
    {
      "cell_type": "code",
      "source": [],
      "metadata": {
        "id": "e7rhtlLjunQg"
      },
      "execution_count": null,
      "outputs": []
    },
    {
      "cell_type": "markdown",
      "source": [
        "## Урок №17. О-нотация"
      ],
      "metadata": {
        "id": "xpl5_LBwChvj"
      }
    },
    {
      "cell_type": "markdown",
      "source": [
        "**Задание №1** (ответ дается текстом под кодом)\n",
        "\n",
        "Какая сложность у этого алгоритма?"
      ],
      "metadata": {
        "id": "NjEuUC0S-2_r"
      }
    },
    {
      "cell_type": "code",
      "source": [
        "n = int(input())\n",
        "m = int(input())\n",
        "cnt = 0\n",
        "for i in range(n):\n",
        "\tfor j in range(m):\n",
        "\t\tcnt += 1\n",
        "print(cnt)"
      ],
      "metadata": {
        "id": "S9Q4Uy1g__k5"
      },
      "execution_count": null,
      "outputs": []
    },
    {
      "cell_type": "markdown",
      "source": [
        "**Ответ:**"
      ],
      "metadata": {
        "id": "A3RP4pD8NWJG"
      }
    },
    {
      "cell_type": "code",
      "source": [],
      "metadata": {
        "id": "CMGrpD4la9g6"
      },
      "execution_count": null,
      "outputs": []
    },
    {
      "cell_type": "markdown",
      "source": [
        "**Задание №2** (ответ дается текстом под кодом)\n",
        "\n",
        "Какая сложность у этого алгоритма?"
      ],
      "metadata": {
        "id": "HohhAbefACot"
      }
    },
    {
      "cell_type": "code",
      "source": [
        "n = int(input())\n",
        "ans = n * n + 100\n",
        "ans -= 200\n",
        "ans *= ans\n",
        "if (ans < 1000000):\n",
        "\tans *= 2"
      ],
      "metadata": {
        "id": "3FdwgtK6AFjD"
      },
      "execution_count": null,
      "outputs": []
    },
    {
      "cell_type": "markdown",
      "source": [
        "**Ответ:**"
      ],
      "metadata": {
        "id": "EeBJA18DNb6w"
      }
    },
    {
      "cell_type": "markdown",
      "source": [
        "**Задание №3** (ответ дается текстом под кодом)\n",
        "\n",
        "Какая сложность у этого алгоритма?"
      ],
      "metadata": {
        "id": "ZFDTXsylAIFs"
      }
    },
    {
      "cell_type": "code",
      "source": [
        "n = int(input())\n",
        "m = int(input())\n",
        "k = 1000\n",
        "for i in range(n):\n",
        "\tfor j in range(m):\n",
        "\t\tk += 100\n",
        "\n",
        "for i in range(m):\n",
        "\tfor j in range(m):\n",
        "\t\tk -= 100"
      ],
      "metadata": {
        "id": "8njDMzxNAKpo"
      },
      "execution_count": null,
      "outputs": []
    },
    {
      "cell_type": "markdown",
      "source": [
        "**Ответ:**"
      ],
      "metadata": {
        "id": "q3ReY-IMNeoc"
      }
    },
    {
      "cell_type": "markdown",
      "source": [
        "## Урок №18-23. Делаем Игру"
      ],
      "metadata": {
        "id": "9YoM-zC4rhg6"
      }
    },
    {
      "cell_type": "markdown",
      "source": [
        "Для данного задания нужно использовать программу Visual Studio Code. Вся дальнейшая работа выполняется в ней.\n",
        "\n",
        "\n",
        "Официальная документация по работе с VSC: https://docs.microsoft.com/ru-ru/learn/modules/python-install-vscode/\n",
        "\n",
        "Эмодзи можно взять с сайта: https://emojipedia.org/\n",
        "\n"
      ],
      "metadata": {
        "id": "lBnmtULRrm8W"
      }
    }
  ]
}